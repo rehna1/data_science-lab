import numpy as np
l1=[2,3,4,5,6]
arr1=np.array(l1)
print(arr1)

import numpy as np
arr=np.empty([3,2], dtype=int)
print(arr)

import numpy as np
a=np.array([[10,11,12,13],[21,22,23,24]])
print(a)

import numpy as np
arr1=np.zeros(5)
print(arr1)

import numpy as np
arr1=np.ones(5)
print(arr1)

import numpy as np
arr1=np.arange(2,100,2)
print(arr1)
[2,3,4,5,6]

import numpy as np
A=np.array([1,2,3,4,5,6])
B=np.reshape(A,(2,3))
print(B)

import numpy as np
data=np.array([5,2,7,3,9])
print (data[:])
print (data[1:3])
print (data[:2])
print (data[:-2])

import numpy as np
a=np.array([[1,2,3,4],[5,6,7,8],[9,10,11,12]])
b=a[1:2,0:4]
print('b',b)
b=a[1:2,1:2]
print('b',b)
b=a[:2,0:2]
print('b',b)
b=a[:2,1:3]
print('b',b)
b=a[1:3,2:4]
print('b',b)

import numpy as np
a=np.array([[1,2,3,4],[5,6,7,8,],[9,10,11,12]])
b=a[0:2,1:3]
print(b)
b[0,0]=20
print(b)
print(a)

x=np.arange(2,11).reshape(3,3)
print(x)

arr1=np.zeros((3,3),dtype=bool)
print(arr1)

x=np.ones((10,10))
x[1:-1,1:-1]=0
print(x)

import numpy as np
a=np.array([[7,5,9],[2,6,8]])
print(a)
b=np.array([2,2,2])
c=np.add(a,b)
print(c)
c=np.subtract(a,b)
print(c)
c=np.multiply(a,b)
print(c)
c=np.divide(a,b)
print(c)

import numpy as np
x=np.array([1,2,3,4])
print (x.sum())
print (x.min())
print (x.max())
print (x.mean())
print (np.median(x))

A=np.array([[7,5],[1,6]])
print(np.concatenate([A,A]))
print(np.concatenate([A,A],axis=1))

a=np.array([[1,2],[3,4]])
b=np.array([[7,8]])
c=np.concatenate([a,b],axis=0)
print(c)
print(c.T)
